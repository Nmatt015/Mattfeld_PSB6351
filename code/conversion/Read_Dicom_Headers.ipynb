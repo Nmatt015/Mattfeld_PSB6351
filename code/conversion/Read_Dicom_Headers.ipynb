{
 "cells": [
  {
   "cell_type": "code",
   "execution_count": 2,
   "metadata": {},
   "outputs": [],
   "source": [
    "# Import necessary modules\n",
    "# glob allows unix style pathname pattern expansion\n",
    "from glob import glob\n",
    "# pydicom is the python dicom reader\n",
    "import pydicom as dicom\n",
    "import nibabel.nicom.csareader as csareader\n",
    "import os\n",
    "import pandas as pd"
   ]
  },
  {
   "cell_type": "code",
   "execution_count": 15,
   "metadata": {},
   "outputs": [],
   "source": [
    "# 5-T1w_MPR_vNav -- MPRAGE structrual dicoms\n",
    "# 6-fMRI_DistortionMap_PA -- fmri field map dicoms\n",
    "# 7-fMRI_DistortionMap_AP -- fmri field map dicoms opposite phase encode direction\n",
    "# 9-fMRI_REVL_ROI_loc_2 -- fmri localizer dicoms run1\n",
    "# 10-fMRI_REVL_Study_1 -- fmri task dicoms run1\n",
    "# 14-dMRI_DistortionMap_AP_dMRI_REVL -- dwi field map dicoms\n",
    "# 16-dMRI_AP_REVL -- diffusion weighted dicoms\n",
    "\n",
    "user_ad = 'amattfel'\n",
    "\n",
    "# directories will have to be specific to your computer\n",
    "base_dir = f'/home/{user_ad}/Mattfeld_PSB6351'\n",
    "proj_dir = '/sourcedata'\n",
    "subj_dir = '/Mattfeld_REVL-000-vCAT-021-S1/scans/10-fMRI_REVL_Study_1/resources/DICOM/files'\n",
    "#subj_dir = '/Mattfeld_REVL-000-vCAT-021-S1/s*/*/*/*/*'\n",
    "\n",
    "\n",
    "# with strings I can concatenate them with simple addition lines\n",
    "data_dir = base_dir + proj_dir + subj_dir\n",
    "\n",
    "# Here I use glob to grab the dicom files\n",
    "# Why would I use glob?  What does it give me?\n",
    "data_files = glob(data_dir + '/*')\n"
   ]
  },
  {
   "cell_type": "code",
   "execution_count": 16,
   "metadata": {},
   "outputs": [
    {
     "data": {
      "text/plain": [
       "355"
      ]
     },
     "execution_count": 16,
     "metadata": {},
     "output_type": "execute_result"
    }
   ],
   "source": [
    "len(data_files)"
   ]
  },
  {
   "cell_type": "code",
   "execution_count": 25,
   "metadata": {},
   "outputs": [],
   "source": [
    "# Here I am using the python dicom reader to read in a dicom header\n",
    "# What should go between the square brackets []\n",
    "func_vol = dicom.dcmread(data_files[0])"
   ]
  },
  {
   "cell_type": "code",
   "execution_count": 42,
   "metadata": {},
   "outputs": [
    {
     "data": {
      "text/plain": [
       "'155343.815000'"
      ]
     },
     "execution_count": 42,
     "metadata": {},
     "output_type": "execute_result"
    }
   ],
   "source": [
    "dir(func_vol)\n",
    "dir(func_vol['AcquisitionTime'])\n",
    "func_vol['AcquisitionTime'].value"
   ]
  },
  {
   "cell_type": "code",
   "execution_count": 43,
   "metadata": {},
   "outputs": [
    {
     "ename": "KeyError",
     "evalue": "\"'Repetition Time'\"",
     "output_type": "error",
     "traceback": [
      "\u001b[0;31m---------------------------------------------------------------------------\u001b[0m",
      "\u001b[0;31mValueError\u001b[0m                                Traceback (most recent call last)",
      "File \u001b[0;32m/home/data/madlab/envs/emuR01_dwi_madlab_env/lib/python3.11/site-packages/pydicom/tag.py:110\u001b[0m, in \u001b[0;36mTag\u001b[0;34m(arg, arg2)\u001b[0m\n\u001b[1;32m    109\u001b[0m \u001b[38;5;28;01mtry\u001b[39;00m:\n\u001b[0;32m--> 110\u001b[0m     long_value \u001b[38;5;241m=\u001b[39m \u001b[38;5;28;43mint\u001b[39;49m\u001b[43m(\u001b[49m\u001b[43marg\u001b[49m\u001b[43m,\u001b[49m\u001b[43m \u001b[49m\u001b[38;5;241;43m16\u001b[39;49m\u001b[43m)\u001b[49m\n\u001b[1;32m    111\u001b[0m     \u001b[38;5;28;01mif\u001b[39;00m long_value \u001b[38;5;241m>\u001b[39m \u001b[38;5;241m0xFFFFFFFF\u001b[39m:\n",
      "\u001b[0;31mValueError\u001b[0m: invalid literal for int() with base 16: 'Repetition Time'",
      "\nDuring handling of the above exception, another exception occurred:\n",
      "\u001b[0;31mValueError\u001b[0m                                Traceback (most recent call last)",
      "File \u001b[0;32m/home/data/madlab/envs/emuR01_dwi_madlab_env/lib/python3.11/site-packages/pydicom/dataset.py:984\u001b[0m, in \u001b[0;36mDataset.__getitem__\u001b[0;34m(self, key)\u001b[0m\n\u001b[1;32m    983\u001b[0m \u001b[38;5;28;01mtry\u001b[39;00m:\n\u001b[0;32m--> 984\u001b[0m     tag \u001b[38;5;241m=\u001b[39m \u001b[43mTag\u001b[49m\u001b[43m(\u001b[49m\u001b[43mkey\u001b[49m\u001b[43m)\u001b[49m\n\u001b[1;32m    985\u001b[0m \u001b[38;5;28;01mexcept\u001b[39;00m \u001b[38;5;167;01mException\u001b[39;00m \u001b[38;5;28;01mas\u001b[39;00m exc:\n",
      "File \u001b[0;32m/home/data/madlab/envs/emuR01_dwi_madlab_env/lib/python3.11/site-packages/pydicom/tag.py:122\u001b[0m, in \u001b[0;36mTag\u001b[0;34m(arg, arg2)\u001b[0m\n\u001b[1;32m    121\u001b[0m         \u001b[38;5;28;01mif\u001b[39;00m long_value \u001b[38;5;129;01mis\u001b[39;00m \u001b[38;5;28;01mNone\u001b[39;00m:\n\u001b[0;32m--> 122\u001b[0m             \u001b[38;5;28;01mraise\u001b[39;00m \u001b[38;5;167;01mValueError\u001b[39;00m(\n\u001b[1;32m    123\u001b[0m                 \u001b[38;5;124mf\u001b[39m\u001b[38;5;124m\"\u001b[39m\u001b[38;5;124mUnable to create an element tag from \u001b[39m\u001b[38;5;124m'\u001b[39m\u001b[38;5;132;01m{\u001b[39;00marg\u001b[38;5;132;01m}\u001b[39;00m\u001b[38;5;124m'\u001b[39m\u001b[38;5;124m: \u001b[39m\u001b[38;5;124m\"\u001b[39m\n\u001b[1;32m    124\u001b[0m                 \u001b[38;5;124m\"\u001b[39m\u001b[38;5;124munknown DICOM element keyword or an invalid int\u001b[39m\u001b[38;5;124m\"\u001b[39m\n\u001b[1;32m    125\u001b[0m             )\n\u001b[1;32m    126\u001b[0m \u001b[38;5;66;03m# Single int parameter\u001b[39;00m\n\u001b[1;32m    127\u001b[0m \u001b[38;5;28;01melse\u001b[39;00m:\n",
      "\u001b[0;31mValueError\u001b[0m: Unable to create an element tag from 'Repetition Time': unknown DICOM element keyword or an invalid int",
      "\nThe above exception was the direct cause of the following exception:\n",
      "\u001b[0;31mKeyError\u001b[0m                                  Traceback (most recent call last)",
      "Cell \u001b[0;32mIn[43], line 10\u001b[0m\n\u001b[1;32m      1\u001b[0m \u001b[38;5;66;03m# Elements we're interested in\u001b[39;00m\n\u001b[1;32m      2\u001b[0m \u001b[38;5;66;03m# Repetition Time\u001b[39;00m\n\u001b[1;32m      3\u001b[0m \u001b[38;5;66;03m# Echo Time\u001b[39;00m\n\u001b[0;32m   (...)\u001b[0m\n\u001b[1;32m      7\u001b[0m \u001b[38;5;66;03m# Protocol Name\u001b[39;00m\n\u001b[1;32m      8\u001b[0m \u001b[38;5;66;03m# Slice times = data_set[0x00191029].value\u001b[39;00m\n\u001b[0;32m---> 10\u001b[0m \u001b[38;5;28mprint\u001b[39m(\u001b[38;5;124m'\u001b[39m\u001b[38;5;124mThe number of TRs collected equals: \u001b[39m\u001b[38;5;132;01m{0}\u001b[39;00m\u001b[38;5;124m'\u001b[39m\u001b[38;5;241m.\u001b[39mformat(\u001b[43mfunc_vol\u001b[49m\u001b[43m[\u001b[49m\u001b[38;5;124;43m\"\u001b[39;49m\u001b[38;5;124;43mRepetition Time\u001b[39;49m\u001b[38;5;124;43m\"\u001b[39;49m\u001b[43m]\u001b[49m\u001b[38;5;241m.\u001b[39mvalue))\n\u001b[1;32m     11\u001b[0m \u001b[38;5;124;03m'''\u001b[39;00m\n\u001b[1;32m     12\u001b[0m \u001b[38;5;124;03mprint('The timing of the TR was: {0} ms'.format(?)\u001b[39;00m\n\u001b[1;32m     13\u001b[0m \u001b[38;5;124;03mprint('The timing of the TE was: {0} ms'.format(?)\u001b[39;00m\n\u001b[0;32m   (...)\u001b[0m\n\u001b[1;32m     31\u001b[0m \u001b[38;5;124;03mprint('COL, 1 = PA; COL, 0 = AP')\u001b[39;00m\n\u001b[1;32m     32\u001b[0m \u001b[38;5;124;03m'''\u001b[39;00m\n",
      "File \u001b[0;32m/home/data/madlab/envs/emuR01_dwi_madlab_env/lib/python3.11/site-packages/pydicom/dataset.py:986\u001b[0m, in \u001b[0;36mDataset.__getitem__\u001b[0;34m(self, key)\u001b[0m\n\u001b[1;32m    984\u001b[0m         tag \u001b[38;5;241m=\u001b[39m Tag(key)\n\u001b[1;32m    985\u001b[0m     \u001b[38;5;28;01mexcept\u001b[39;00m \u001b[38;5;167;01mException\u001b[39;00m \u001b[38;5;28;01mas\u001b[39;00m exc:\n\u001b[0;32m--> 986\u001b[0m         \u001b[38;5;28;01mraise\u001b[39;00m \u001b[38;5;167;01mKeyError\u001b[39;00m(\u001b[38;5;124mf\u001b[39m\u001b[38;5;124m\"\u001b[39m\u001b[38;5;124m'\u001b[39m\u001b[38;5;132;01m{\u001b[39;00mkey\u001b[38;5;132;01m}\u001b[39;00m\u001b[38;5;124m'\u001b[39m\u001b[38;5;124m\"\u001b[39m) \u001b[38;5;28;01mfrom\u001b[39;00m \u001b[38;5;21;01mexc\u001b[39;00m\n\u001b[1;32m    988\u001b[0m elem \u001b[38;5;241m=\u001b[39m \u001b[38;5;28mself\u001b[39m\u001b[38;5;241m.\u001b[39m_dict[tag]\n\u001b[1;32m    990\u001b[0m \u001b[38;5;28;01mif\u001b[39;00m \u001b[38;5;28misinstance\u001b[39m(elem, RawDataElement):\n\u001b[1;32m    991\u001b[0m     \u001b[38;5;66;03m# If a deferred read, then go get the value now\u001b[39;00m\n",
      "\u001b[0;31mKeyError\u001b[0m: \"'Repetition Time'\""
     ]
    }
   ],
   "source": [
    "# Elements we're interested in\n",
    "# Repetition Time\n",
    "# Echo Time\n",
    "# Acquisition Matrix \n",
    "# Flip Angle\n",
    "# Acquisition Number\n",
    "# Protocol Name\n",
    "# Slice times = data_set[0x00191029].value\n",
    "\n",
    "print('The number of TRs collected equals: {0}'.format(func_vol[\"Repetition Time\"].value))\n",
    "'''\n",
    "print('The timing of the TR was: {0} ms'.format(?)\n",
    "print('The timing of the TE was: {0} ms'.format(?)\n",
    "print('The flip angle in degrees was: {0}'.format(?)\n",
    "print(f'The name of the scan was: {whatgoeshere}'\n",
    "print(f'The phase encode direction was: {whatgoeshere}'\n",
    "print('COL = AP or PA; ROW = RL or LR')\n",
    "print('The slice timing was: {0}'.format(?)\n",
    "print('The field of view - FOV was: {0}'.format(?)\n",
    "\n",
    "# Why use the following format to access information in the header?\n",
    "#print(data_set[int('0051100c', 16)].value) # data_set[0x0051100c].value\n",
    "# Allows us to access information that is private in the dicom header.\n",
    "\n",
    "# How do I find phase encoding direction information?\n",
    "\n",
    "csa_str = data_set[int('00291010', 16)].value\n",
    "csa_tr = csareader.read(csa_str)\n",
    "print('The phase encode direction was: {0}'.format(?))\n",
    "print('1 = +; 0 = -')\n",
    "print('COL, 1 = PA; COL, 0 = AP')\n",
    "'''"
   ]
  },
  {
   "cell_type": "code",
   "execution_count": null,
   "metadata": {},
   "outputs": [],
   "source": []
  }
 ],
 "metadata": {
  "kernelspec": {
   "display_name": "Python 3 (ipykernel)",
   "language": "python",
   "name": "python3"
  },
  "language_info": {
   "codemirror_mode": {
    "name": "ipython",
    "version": 3
   },
   "file_extension": ".py",
   "mimetype": "text/x-python",
   "name": "python",
   "nbconvert_exporter": "python",
   "pygments_lexer": "ipython3",
   "version": "3.11.8"
  }
 },
 "nbformat": 4,
 "nbformat_minor": 4
}
