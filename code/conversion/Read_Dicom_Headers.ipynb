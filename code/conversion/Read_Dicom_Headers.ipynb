{
 "cells": [
  {
   "cell_type": "code",
   "execution_count": null,
   "metadata": {},
   "outputs": [],
   "source": [
    "# Import necessary modules\n",
    "# glob allows unix style pathname pattern expansion\n",
    "from glob import glob\n",
    "# pydicom is the python dicom reader\n",
    "import pydicom as dicom\n",
    "import nibabel.nicom.csareader as csareader\n",
    "import os\n",
    "import pandas as pd"
   ]
  },
  {
   "cell_type": "code",
   "execution_count": 3,
   "metadata": {},
   "outputs": [],
   "source": [
    "# 5-T1w_MPR_vNav -- MPRAGE structrual dicoms\n",
    "# 6-fMRI_DistortionMap_PA -- fmri field map dicoms\n",
    "# 7-fMRI_DistortionMap_AP -- fmri field map dicoms opposite phase encode direction\n",
    "# 9-fMRI_REVL_ROI_loc_2 -- fmri localizer dicoms run1\n",
    "# 10-fMRI_REVL_Study_1 -- fmri task dicoms run1\n",
    "# 14-dMRI_DistortionMap_AP_dMRI_REVL -- dwi field map dicoms\n",
    "# 16-dMRI_AP_REVL -- diffusion weighted dicoms\n",
    "\n",
    "# directories will have to be specific to your computer\n",
    "base_dir = f'/home/{whatgoeshere}/Mattfeld_PSB6351'\n",
    "proj_dir = '/sourcedata'\n",
    "subj_dir = '/Mattfeld_REVL-000-vCAT-021-S1/scans/10-fMRI_REVL_Study_1/resources/DICOM/files'\n",
    "\n",
    "# with strings I can concatenate them with simple addition lines\n",
    "data_dir = base_dir + proj_dir + subj_dir\n",
    "\n",
    "# Here I use glob to grab the dicom files\n",
    "# Why would I use glob?  What does it give me?\n",
    "data_files = glob(data_dir + '/*')\n"
   ]
  },
  {
   "cell_type": "code",
   "execution_count": null,
   "metadata": {},
   "outputs": [],
   "source": [
    "data_files"
   ]
  },
  {
   "cell_type": "code",
   "execution_count": 4,
   "metadata": {},
   "outputs": [],
   "source": [
    "# Here I am using the python dicom reader to read in a dicom header\n",
    "# What should go between the square brackets []\n",
    "data_set = dicom.dcmread(data_files[?])"
   ]
  },
  {
   "cell_type": "code",
   "execution_count": null,
   "metadata": {},
   "outputs": [],
   "source": [
    "data_set"
   ]
  },
  {
   "cell_type": "code",
   "execution_count": null,
   "metadata": {},
   "outputs": [],
   "source": [
    "# Elements we're interested in\n",
    "# Repetition Time\n",
    "# Echo Time\n",
    "# Acquisition Matrix \n",
    "# Flip Angle\n",
    "# Acquisition Number\n",
    "# Protocol Name\n",
    "# Slice times = data_set[0x00191029].value\n",
    "\n",
    "print('The number of TRs collected equals: {0}'.format(?)\n",
    "print('The timing of the TR was: {0} ms'.format(?)\n",
    "print('The timing of the TE was: {0} ms'.format(?)\n",
    "print('The flip angle in degrees was: {0}'.format(?)\n",
    "print(f'The name of the scan was: {whatgoeshere}'\n",
    "print(f'The phase encode direction was: {whatgoeshere}'\n",
    "print('COL = AP or PA; ROW = RL or LR')\n",
    "print('The slice timing was: {0}'.format(?)\n",
    "print('The field of view - FOV was: {0}'.format(?)\n",
    "\n",
    "# Why use the following format to access information in the header?\n",
    "#print(data_set[int('0051100c', 16)].value) # data_set[0x0051100c].value\n",
    "# Allows us to access information that is private in the dicom header.\n",
    "\n",
    "# How do I find phase encoding direction information?\n",
    "\n",
    "csa_str = data_set[int('00291010', 16)].value\n",
    "csa_tr = csareader.read(csa_str)\n",
    "print('The phase encode direction was: {0}'.format(?))\n",
    "print('1 = +; 0 = -')\n",
    "print('COL, 1 = PA; COL, 0 = AP')"
   ]
  }
 ],
 "metadata": {
  "kernelspec": {
   "display_name": "Python 3 (ipykernel)",
   "language": "python",
   "name": "python3"
  },
  "language_info": {
   "codemirror_mode": {
    "name": "ipython",
    "version": 3
   },
   "file_extension": ".py",
   "mimetype": "text/x-python",
   "name": "python",
   "nbconvert_exporter": "python",
   "pygments_lexer": "ipython3",
   "version": "3.11.8"
  }
 },
 "nbformat": 4,
 "nbformat_minor": 4
}
